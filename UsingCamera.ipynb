{
 "cells": [
  {
   "cell_type": "code",
   "execution_count": 1,
   "metadata": {},
   "outputs": [],
   "source": [
    "import cv2"
   ]
  },
  {
   "cell_type": "code",
   "execution_count": 6,
   "metadata": {},
   "outputs": [],
   "source": [
    "# using your own camera. index either 0 or -1\n",
    "# if you have multiple cameras you can try 1 or 2 \n",
    "\n",
    "cap = cv2.VideoCapture(0)# we can use video from our files just putting the video name instead of number\n",
    "\n",
    "# we need to create loop for capturing the frame continuously\n",
    "while(True):\n",
    "    ret, frame = cap.read() # ret return True if available and and captured saved to frame\n",
    "    cv2.imshow('frame', frame)\n",
    "    \n",
    "    if cv2.waitKey(1) & 0xFF  == ord('q'):\n",
    "        break # q key pressed, break the loop\n",
    "    \n",
    "cap.release()\n",
    "cv2.destroyAllWindows() "
   ]
  },
  {
   "cell_type": "code",
   "execution_count": 7,
   "metadata": {},
   "outputs": [],
   "source": [
    "# we can make it also gray \n",
    "\n",
    "\n",
    "# using your own camera. index either 0 or -1\n",
    "# if you have multiple cameras you can try 1 or 2 \n",
    "cap = cv2.VideoCapture(0)\n",
    "# we need to create loop for capturing the frame continuously\n",
    "while(True):\n",
    "    ret, frame = cap.read() # ret return True if available and and captured saved to frame\n",
    "    \n",
    "    gray = cv2.cvtColor(frame, cv2.COLOR_BGR2GRAY)\n",
    "    cv2.imshow('frame', gray)\n",
    "    \n",
    "    if cv2.waitKey(1) & 0xFF  == ord('q'):\n",
    "        break # q key pressed, break the loop\n",
    "    \n",
    "cap.release()\n",
    "cv2.destroyAllWindows() "
   ]
  },
  {
   "cell_type": "code",
   "execution_count": null,
   "metadata": {},
   "outputs": [],
   "source": [
    "# we can use video from our files just putting the video name instead of number\n",
    "cap = cv2.VideoCapture(\"blabla.mp4\")\n",
    "\n",
    "while(cap.isOpened()): #check it can check or not\n",
    "    ret, frame = cap.read() # ret return True if available and and captured saved to frame\n",
    "    cv2.imshow('frame', frame)\n",
    "    \n",
    "    if cv2.waitKey(1) & 0xFF  == ord('q'):\n",
    "        break # q key pressed, break the loop\n",
    "    \n",
    "cap.release()\n",
    "cv2.destroyAllWindows() "
   ]
  },
  {
   "cell_type": "markdown",
   "metadata": {},
   "source": [
    "- cap.get(cv2.CAP_PROP_FRAME_WIDTH)\n",
    "- cap.get(cv2.CAP_PROP_FRAME_HEIGHT)"
   ]
  },
  {
   "cell_type": "code",
   "execution_count": null,
   "metadata": {},
   "outputs": [],
   "source": [
    "# to save our video\n",
    "cap = cv2.VideoCapture(0)\n",
    "fourcc = cv2.VideoWriter_fourcc('X','V','I','D')\n",
    "out = cv2.VideoWriter('output.avi', fourcc, 20.0, (640,480))\n",
    "\n",
    "while(cap.isOpened()):\n",
    "    ret, frame = cap.read()\n",
    "    if ret == True:\n",
    "        out.write(frame)\n",
    "        \n",
    "        if cv2.waitKey(1) && 0xFF == ord('q'):\n",
    "            break\n",
    "        else:\n",
    "            break\n",
    "            \n",
    "cap.release()\n",
    "out.release()\n",
    "cv2.destroyAllWindows()"
   ]
  },
  {
   "cell_type": "code",
   "execution_count": null,
   "metadata": {},
   "outputs": [],
   "source": []
  }
 ],
 "metadata": {
  "kernelspec": {
   "display_name": "Python 3",
   "language": "python",
   "name": "python3"
  },
  "language_info": {
   "codemirror_mode": {
    "name": "ipython",
    "version": 3
   },
   "file_extension": ".py",
   "mimetype": "text/x-python",
   "name": "python",
   "nbconvert_exporter": "python",
   "pygments_lexer": "ipython3",
   "version": "3.7.9"
  }
 },
 "nbformat": 4,
 "nbformat_minor": 4
}
