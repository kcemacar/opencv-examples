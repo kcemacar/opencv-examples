{
 "cells": [
  {
   "cell_type": "code",
   "execution_count": 7,
   "metadata": {},
   "outputs": [],
   "source": [
    "import cv2\n",
    "import numpy as np"
   ]
  },
  {
   "cell_type": "code",
   "execution_count": 12,
   "metadata": {},
   "outputs": [],
   "source": [
    "\n",
    "cap = cv2.VideoCapture(0)# we can use video from our files just putting the video name instead of number\n",
    "\n",
    "# we need to create loop for capturing the frame continuously\n",
    "while(True):\n",
    "    ret, frame = cap.read() # ret return True if available and and captured saved to frame\n",
    "    \n",
    "    lower = np.array([10, 5, 100], dtype = \"uint8\")\n",
    "    upper = np.array([60, 66, 200], dtype = \"uint8\")\n",
    "    \n",
    "    mask = cv2.inRange(frame, lower, upper)\n",
    "    output = cv2.bitwise_and(frame, frame, mask = mask)\n",
    "\n",
    "    \n",
    "    cv2.imshow('frame', output)\n",
    "    \n",
    "    if cv2.waitKey(1) & 0xFF  == ord('q'):\n",
    "        break # q key pressed, break the loop\n",
    "    \n",
    "cap.release()\n",
    "cv2.destroyAllWindows() "
   ]
  },
  {
   "cell_type": "code",
   "execution_count": null,
   "metadata": {},
   "outputs": [],
   "source": []
  }
 ],
 "metadata": {
  "kernelspec": {
   "display_name": "Python 3",
   "language": "python",
   "name": "python3"
  },
  "language_info": {
   "codemirror_mode": {
    "name": "ipython",
    "version": 3
   },
   "file_extension": ".py",
   "mimetype": "text/x-python",
   "name": "python",
   "nbconvert_exporter": "python",
   "pygments_lexer": "ipython3",
   "version": "3.7.9"
  }
 },
 "nbformat": 4,
 "nbformat_minor": 4
}
