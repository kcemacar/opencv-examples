{
 "cells": [
  {
   "cell_type": "code",
   "execution_count": 7,
   "metadata": {},
   "outputs": [],
   "source": [
    "import numpy as np\n",
    "import cv2"
   ]
  },
  {
   "cell_type": "code",
   "execution_count": 27,
   "metadata": {},
   "outputs": [],
   "source": [
    "# drawing line\n",
    "\n",
    "\n",
    "img = cv2.imread('simpson.jpeg')\n",
    "img = cv2.line(img,(0,0),(200,400),(0,255,0),5) # image, point1, point2, color(BGR), thickness\n",
    "cv2.imshow('image',img)\n",
    "cv2.waitKey(0)\n",
    "cv2.destroyAllWindows()\n"
   ]
  },
  {
   "cell_type": "code",
   "execution_count": 15,
   "metadata": {},
   "outputs": [],
   "source": [
    "# drawing arrowed line\n",
    "\n",
    "\n",
    "img = cv2.imread('simpson.jpeg')\n",
    "img = cv2.arrowedLine(img,(0,0),(200,400),(0,255,0),5) # image, point1, point2, color(BGR), thickness\n",
    "cv2.imshow('image',img)\n",
    "cv2.waitKey(0)\n",
    "cv2.destroyAllWindows()"
   ]
  },
  {
   "cell_type": "code",
   "execution_count": 28,
   "metadata": {},
   "outputs": [],
   "source": [
    "# drawing rectangle ( if you want to fill inside it thickness should be -1)\n",
    "\n",
    "\n",
    "img = cv2.imread('simpson.jpeg')\n",
    "img = cv2.rectangle(img,(20,35),(200,400),(0,255,0),5) # image, point1(top left corner), point2(down right corner), color(BGR), thickness\n",
    "cv2.imshow('image',img)\n",
    "cv2.waitKey(0)\n",
    "cv2.destroyAllWindows()"
   ]
  },
  {
   "cell_type": "code",
   "execution_count": 20,
   "metadata": {},
   "outputs": [],
   "source": [
    "# drawing circle ( if you want to fill inside it thickness should be -1)\n",
    "\n",
    "\n",
    "img = cv2.imread('simpson.jpeg')\n",
    "img = cv2.circle(img,(100,100),50,(0,255,0),-1) # image, center, radius, color(BGR), thickness\n",
    "cv2.imshow('image',img)\n",
    "cv2.waitKey(0)\n",
    "cv2.destroyAllWindows()"
   ]
  },
  {
   "cell_type": "code",
   "execution_count": 29,
   "metadata": {},
   "outputs": [],
   "source": [
    "# putting Text \n",
    "\n",
    "\n",
    "img = cv2.imread('simpson.jpeg')\n",
    "\n",
    "font = cv2.FONT_HERSHEY_SIMPLEX\n",
    "\n",
    "img = cv2.putText(img, \"S.A\", (250,150), font,2, cv2.LINE_AA,5) # image, text, origin, fontFace, fontScale, color, thickness = None, lineType=None, bottomLeftOrigin = None\n",
    "cv2.imshow('image',img)\n",
    "cv2.waitKey(0)\n",
    "cv2.destroyAllWindows()\n"
   ]
  },
  {
   "cell_type": "code",
   "execution_count": 31,
   "metadata": {},
   "outputs": [],
   "source": [
    "# creating / making image black\n",
    "\n",
    "\n",
    "img = np.zeros([512,512,3], np.uint8)\n",
    "cv2.imshow('image',img)\n",
    "cv2.waitKey(0)\n",
    "cv2.destroyAllWindows()"
   ]
  },
  {
   "cell_type": "code",
   "execution_count": null,
   "metadata": {},
   "outputs": [],
   "source": []
  }
 ],
 "metadata": {
  "kernelspec": {
   "display_name": "Python 3",
   "language": "python",
   "name": "python3"
  },
  "language_info": {
   "codemirror_mode": {
    "name": "ipython",
    "version": 3
   },
   "file_extension": ".py",
   "mimetype": "text/x-python",
   "name": "python",
   "nbconvert_exporter": "python",
   "pygments_lexer": "ipython3",
   "version": "3.7.9"
  }
 },
 "nbformat": 4,
 "nbformat_minor": 4
}
