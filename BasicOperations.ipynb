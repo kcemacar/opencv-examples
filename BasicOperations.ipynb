{
 "cells": [
  {
   "cell_type": "code",
   "execution_count": 1,
   "metadata": {},
   "outputs": [],
   "source": [
    "import numpy as np\n",
    "import cv2"
   ]
  },
  {
   "cell_type": "code",
   "execution_count": 7,
   "metadata": {},
   "outputs": [
    {
     "name": "stdout",
     "output_type": "stream",
     "text": [
      "(552, 980, 3)\n",
      "1622880\n",
      "uint8\n",
      " \n",
      "blue channel =  [[118 118 118 ... 118 118 118]\n",
      " [118 118 118 ... 118 118 118]\n",
      " [118 118 118 ... 118 118 118]\n",
      " ...\n",
      " [ 84  83  81 ...  65  65  65]\n",
      " [ 84  83  81 ...  63  63  63]\n",
      " [ 84  83  81 ...  63  63  63]]\n",
      " \n",
      "green channel =  [[50 50 50 ... 50 50 50]\n",
      " [50 50 50 ... 50 50 50]\n",
      " [50 50 50 ... 50 50 50]\n",
      " ...\n",
      " [20 19 19 ... 18 18 18]\n",
      " [20 19 19 ... 18 18 18]\n",
      " [20 19 19 ... 18 18 18]]\n",
      " \n",
      "red channel =  [[21 21 21 ... 21 21 21]\n",
      " [21 21 21 ... 21 21 21]\n",
      " [21 21 21 ... 21 21 21]\n",
      " ...\n",
      " [15 14 13 ... 14 14 14]\n",
      " [15 14 13 ... 14 14 14]\n",
      " [15 14 13 ... 14 14 14]]\n",
      "\n"
     ]
    }
   ],
   "source": [
    "img = cv2. imread('simpson.jpeg')\n",
    "\n",
    "print (img.shape)\n",
    "print (img.size)\n",
    "print (img.dtype)\n",
    "\n",
    "b,g,r = cv2.split(img)\n",
    "print (\" \")\n",
    "print ('blue channel = ',b)\n",
    "print (\" \")\n",
    "print ('green channel = ',g)\n",
    "print (\" \")\n",
    "print ('red channel = ',r)\n",
    "print(\"\")\n",
    "\n",
    "# we can merge this colors and create img\n",
    "\n",
    "img =cv2.merge((b,g,r))\n",
    "cv2.imshow('image',img)\n",
    "cv2.waitKey(0)\n",
    "cv2.destroyAllWindows()"
   ]
  },
  {
   "cell_type": "code",
   "execution_count": 12,
   "metadata": {},
   "outputs": [],
   "source": [
    "# copied from image and adding to another part\n",
    "\n",
    "copied_part = img[200:250, 250:350]\n",
    "\n",
    "# adding part\n",
    "img[400:450, 400:500] = cropped_part\n",
    "cv2.imshow('image',img)\n",
    "cv2.waitKey(0)\n",
    "cv2.destroyAllWindows()"
   ]
  },
  {
   "cell_type": "code",
   "execution_count": 23,
   "metadata": {},
   "outputs": [],
   "source": [
    "# adding two image together. WARNING : image sizes should be matchable. so use resize thing.\n",
    "img = cv2. imread('simpson.jpeg')\n",
    "img2 = cv2.imread('randomlogo.png')\n",
    "\n",
    "\n",
    "img = cv2.resize(img,(512,512))\n",
    "img2 = cv2.resize(img2, (512,512))\n",
    "\n",
    "dst = cv2.add(img,img2)\n",
    "\n",
    "\n",
    "cv2.imshow('image',dst)\n",
    "cv2.waitKey(0)\n",
    "cv2.destroyAllWindows()"
   ]
  },
  {
   "cell_type": "code",
   "execution_count": 24,
   "metadata": {},
   "outputs": [],
   "source": [
    "# we can tune the weights of the images which we are going to add each other.\n",
    "\n",
    "img = cv2. imread('simpson.jpeg')\n",
    "img2 = cv2.imread('randomlogo.png')\n",
    "\n",
    "\n",
    "img = cv2.resize(img,(512,512))\n",
    "img2 = cv2.resize(img2, (512,512))\n",
    "\n",
    "dst = cv2.addWeighted(img, .9, img2, .1, 0)\n",
    "\n",
    "\n",
    "cv2.imshow('image',dst)\n",
    "cv2.waitKey(0)\n",
    "cv2.destroyAllWindows()"
   ]
  },
  {
   "cell_type": "code",
   "execution_count": null,
   "metadata": {},
   "outputs": [],
   "source": []
  }
 ],
 "metadata": {
  "kernelspec": {
   "display_name": "Python 3",
   "language": "python",
   "name": "python3"
  },
  "language_info": {
   "codemirror_mode": {
    "name": "ipython",
    "version": 3
   },
   "file_extension": ".py",
   "mimetype": "text/x-python",
   "name": "python",
   "nbconvert_exporter": "python",
   "pygments_lexer": "ipython3",
   "version": "3.7.9"
  }
 },
 "nbformat": 4,
 "nbformat_minor": 4
}
