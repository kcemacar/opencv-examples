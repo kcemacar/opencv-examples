{
 "cells": [
  {
   "cell_type": "code",
   "execution_count": 2,
   "metadata": {},
   "outputs": [],
   "source": [
    "import cv2\n",
    "import numpy as np"
   ]
  },
  {
   "cell_type": "code",
   "execution_count": 9,
   "metadata": {},
   "outputs": [
    {
     "name": "stdout",
     "output_type": "stream",
     "text": [
      "Collecting playsound\n",
      "  Downloading playsound-1.2.2-py2.py3-none-any.whl (6.0 kB)\n",
      "Installing collected packages: playsound\n",
      "Successfully installed playsound-1.2.2\n"
     ]
    }
   ],
   "source": [
    "!pip install playsound"
   ]
  },
  {
   "cell_type": "code",
   "execution_count": 21,
   "metadata": {},
   "outputs": [],
   "source": [
    "import playsound\n",
    "def play_audio():\n",
    "    playsound.playsound(\"smokealarm.wav\", True)\n",
    "    \n"
   ]
  },
  {
   "cell_type": "code",
   "execution_count": 47,
   "metadata": {},
   "outputs": [
    {
     "name": "stdout",
     "output_type": "stream",
     "text": [
      "15251\n"
     ]
    }
   ],
   "source": [
    "video = cv2.VideoCapture(0)\n",
    "Alarm_Status = False\n",
    "while True:\n",
    "    ret, frame = video.read()\n",
    "    frame = cv2.resize(frame, (1000,600))\n",
    "    blur = cv2.GaussianBlur(frame,(15,15),0)\n",
    "    hsv = cv2.cvtColor(blur, cv2.COLOR_BGR2HSV)\n",
    "    \n",
    "    lower = [25,30,30]\n",
    "    upper = [35,255,255]\n",
    "    \n",
    "    upper = np.array(upper, dtype ='uint8')\n",
    "    lower = np.array(lower, dtype ='uint8')\n",
    "    \n",
    "    mask = cv2.inRange(hsv,lower,upper)\n",
    "    output = cv2.bitwise_and(frame, hsv, mask = mask)\n",
    "    \n",
    "    counter = cv2.countNonZero(mask)\n",
    "    \n",
    "     \n",
    "    if int(counter) >15000:\n",
    "        if Alarm_Status == False:\n",
    "            play_audio()\n",
    "            Alarm_Status = True\n",
    "    \n",
    "        \n",
    "    \n",
    "    \n",
    "    cv2.imshow(\"Output\",output)\n",
    "    \n",
    "    if cv2.waitKey(1) & 0xFF == ord(\"q\"):\n",
    "        break\n",
    "        \n",
    "print (counter)        \n",
    "cv2.destroyAllWindows()\n",
    "video.release()"
   ]
  },
  {
   "cell_type": "code",
   "execution_count": null,
   "metadata": {},
   "outputs": [],
   "source": []
  }
 ],
 "metadata": {
  "kernelspec": {
   "display_name": "Python 3",
   "language": "python",
   "name": "python3"
  },
  "language_info": {
   "codemirror_mode": {
    "name": "ipython",
    "version": 3
   },
   "file_extension": ".py",
   "mimetype": "text/x-python",
   "name": "python",
   "nbconvert_exporter": "python",
   "pygments_lexer": "ipython3",
   "version": "3.8.5"
  }
 },
 "nbformat": 4,
 "nbformat_minor": 4
}
