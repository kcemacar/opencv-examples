{
 "cells": [
  {
   "cell_type": "code",
   "execution_count": 2,
   "metadata": {},
   "outputs": [],
   "source": [
    "import cv2\n",
    "import numpy as np"
   ]
  },
  {
   "cell_type": "code",
   "execution_count": 6,
   "metadata": {},
   "outputs": [],
   "source": [
    "img1= np.zeros((250,500,3), np.uint8)\n",
    "img1 = cv2.rectangle(img1, (122,0), (430,800), (255,255,255), -1)\n",
    "img2 = cv2.rectangle(img1, (0,0), (150,100), (255,255,255), -1)\n",
    "\n",
    "bitAnd = cv2.bitwise_and(img2,img1)\n",
    "\n",
    "cv2.imshow(\"img1\", img1)\n",
    "cv2.imshow(\"img2\", img2)\n",
    "cv2.imshow('bitAnd', bitAnd)\n",
    "\n",
    "cv2.waitKey(0)\n",
    "cv2.destroyAllWindows()"
   ]
  },
  {
   "cell_type": "code",
   "execution_count": 10,
   "metadata": {},
   "outputs": [],
   "source": [
    "img1= np.zeros((250,500,3), np.uint8)\n",
    "img1 = cv2.rectangle(img1, (122,0), (430,800), (255,255,255), -1)\n",
    "img2 = cv2.rectangle(img1, (0,0), (150,100), (255,255,255), -1)\n",
    "\n",
    "bitOr = cv2.bitwise_or(img2,img1)\n",
    "\n",
    "cv2.imshow(\"img1\", img1)\n",
    "cv2.imshow(\"img2\", img2)\n",
    "cv2.imshow('bitOr', bitOr)\n",
    "\n",
    "cv2.waitKey(0)\n",
    "cv2.destroyAllWindows()"
   ]
  },
  {
   "cell_type": "code",
   "execution_count": 11,
   "metadata": {},
   "outputs": [],
   "source": [
    "img1= np.zeros((250,500,3), np.uint8)\n",
    "img1 = cv2.rectangle(img1, (122,0), (430,800), (255,255,255), -1)\n",
    "img2 = cv2.rectangle(img1, (0,0), (150,100), (255,255,255), -1)\n",
    "\n",
    "bitXor = cv2.bitwise_xor(img2,img1)\n",
    "\n",
    "cv2.imshow(\"img1\", img1)\n",
    "cv2.imshow(\"img2\", img2)\n",
    "cv2.imshow('bitXor', bitXor)\n",
    "\n",
    "cv2.waitKey(0)\n",
    "cv2.destroyAllWindows()"
   ]
  },
  {
   "cell_type": "code",
   "execution_count": 14,
   "metadata": {},
   "outputs": [],
   "source": [
    "img1= np.zeros((250,500,3), np.uint8)\n",
    "img1 = cv2.rectangle(img1, (122,0), (430,800), (255,255,255), -1)\n",
    "img2 = cv2.rectangle(img1, (0,0), (150,100), (255,255,255), -1)\n",
    "\n",
    "bitNot1 = cv2.bitwise_not(img1)\n",
    "bitNot2 = cv2.bitwise_not(img2)\n",
    "\n",
    "cv2.imshow(\"img1\", img1)\n",
    "cv2.imshow(\"img2\", img2)\n",
    "\n",
    "cv2.imshow('bitNot1', bitNot1)\n",
    "cv2.imshow('bitNot2', bitNot2)\n",
    "\n",
    "cv2.waitKey(0)\n",
    "cv2.destroyAllWindows()"
   ]
  },
  {
   "cell_type": "code",
   "execution_count": null,
   "metadata": {},
   "outputs": [],
   "source": []
  }
 ],
 "metadata": {
  "kernelspec": {
   "display_name": "Python 3",
   "language": "python",
   "name": "python3"
  },
  "language_info": {
   "codemirror_mode": {
    "name": "ipython",
    "version": 3
   },
   "file_extension": ".py",
   "mimetype": "text/x-python",
   "name": "python",
   "nbconvert_exporter": "python",
   "pygments_lexer": "ipython3",
   "version": "3.7.9"
  }
 },
 "nbformat": 4,
 "nbformat_minor": 4
}
