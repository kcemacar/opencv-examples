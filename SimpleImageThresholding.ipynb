{
 "cells": [
  {
   "cell_type": "code",
   "execution_count": 1,
   "metadata": {},
   "outputs": [],
   "source": [
    "# very popular segmentation(parçalara ayırma) technique for separating object from background.\n",
    "# it's a great way to extract useful information.  "
   ]
  },
  {
   "cell_type": "code",
   "execution_count": 2,
   "metadata": {},
   "outputs": [],
   "source": [
    "import cv2 \n",
    "import numpy as np"
   ]
  },
  {
   "cell_type": "code",
   "execution_count": 3,
   "metadata": {},
   "outputs": [],
   "source": [
    "img = cv2.imread('gradient.png', 0)\n",
    "\n",
    "\n",
    "_, th1 = cv2.threshold(img, 127, 255, cv2.THRESH_BINARY) # source, threshold_value, max_value, threshold_type\n",
    "\n",
    "cv2.imshow(\"Image\", img)\n",
    "cv2.imshow(\"th1\", th1)\n",
    "\n",
    "cv2.waitKey(0)\n",
    "cv2.destroyAllWindows()"
   ]
  },
  {
   "cell_type": "code",
   "execution_count": 4,
   "metadata": {},
   "outputs": [],
   "source": [
    "# using inverse \n",
    "\n",
    "img = cv2.imread('gradient.png', 0)\n",
    "\n",
    "_, th1 = cv2.threshold(img, 127, 255, cv2.THRESH_BINARY) # source, threshold_value, max_value, threshold_type\n",
    "_, th2 = cv2.threshold(img, 127, 255, cv2.THRESH_BINARY_INV)\n",
    "\n",
    "cv2.imshow(\"Image\", img)\n",
    "cv2.imshow(\"th1\", th1)\n",
    "cv2.imshow(\"th2\", th2)\n",
    "\n",
    "cv2.waitKey(0)\n",
    "cv2.destroyAllWindows()"
   ]
  },
  {
   "cell_type": "code",
   "execution_count": 5,
   "metadata": {},
   "outputs": [],
   "source": [
    "# thresh binary gives you black or white. checking minimum value and giving result.\n",
    "# using inverse \n",
    "\n",
    "img = cv2.imread('gradient.png', 0)\n",
    "\n",
    "_, th1 = cv2.threshold(img, 50, 255, cv2.THRESH_BINARY) # source, threshold_value, max_value, threshold_type\n",
    "_, th2 = cv2.threshold(img, 50, 255, cv2.THRESH_BINARY_INV)\n",
    "\n",
    "cv2.imshow(\"Image\", img)\n",
    "cv2.imshow(\"th1\", th1)\n",
    "cv2.imshow(\"th2\", th2)\n",
    "\n",
    "cv2.waitKey(0)\n",
    "cv2.destroyAllWindows()"
   ]
  },
  {
   "cell_type": "code",
   "execution_count": 9,
   "metadata": {},
   "outputs": [],
   "source": [
    "# cv2.THRESH_TRUNC : After the threshold value, everything stays same.\n",
    "\n",
    "img = cv2.imread('gradient.png', 0)\n",
    "\n",
    "_, th1 = cv2.threshold(img, 50, 255, cv2.THRESH_TRUNC) # source, threshold_value, max_value, threshold_type\n",
    "_, th2 = cv2.threshold(img, 152, 255, cv2.THRESH_TRUNC) # source, threshold_value, max_value, threshold_type\n",
    "\n",
    "cv2.imshow(\"Image\", img)\n",
    "cv2.imshow(\"th1\", th1)\n",
    "cv2.imshow(\"th2\", th2)\n",
    "\n",
    "\n",
    "cv2.waitKey(0)\n",
    "cv2.destroyAllWindows()"
   ]
  },
  {
   "cell_type": "code",
   "execution_count": 11,
   "metadata": {},
   "outputs": [],
   "source": [
    "# cv2.THRESH_TOZERO : Less than the threshold value, everything become 0.\n",
    "# cv2.THRESH_TOZERO_INV : Inverse of it.\n",
    "\n",
    "img = cv2.imread('gradient.png', 0)\n",
    "\n",
    "_, th1 = cv2.threshold(img, 50, 255, cv2.THRESH_TOZERO) # source, threshold_value, max_value, threshold_type\n",
    "_, th2 = cv2.threshold(img, 152, 255, cv2.THRESH_TOZERO) # source, threshold_value, max_value, threshold_type\n",
    "\n",
    "cv2.imshow(\"Image\", img)\n",
    "cv2.imshow(\"th1\", th1)\n",
    "cv2.imshow(\"th2\", th2)\n",
    "\n",
    "\n",
    "cv2.waitKey(0)\n",
    "cv2.destroyAllWindows()"
   ]
  }
 ],
 "metadata": {
  "kernelspec": {
   "display_name": "Python 3",
   "language": "python",
   "name": "python3"
  },
  "language_info": {
   "codemirror_mode": {
    "name": "ipython",
    "version": 3
   },
   "file_extension": ".py",
   "mimetype": "text/x-python",
   "name": "python",
   "nbconvert_exporter": "python",
   "pygments_lexer": "ipython3",
   "version": "3.7.9"
  }
 },
 "nbformat": 4,
 "nbformat_minor": 4
}
